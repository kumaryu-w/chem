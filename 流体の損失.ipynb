{
  "nbformat": 4,
  "nbformat_minor": 0,
  "metadata": {
    "colab": {
      "name": "流体の損失.ipynb",
      "provenance": [],
      "collapsed_sections": [],
      "authorship_tag": "ABX9TyO3fqKXFVhb4mCDj/Ngb58w",
      "include_colab_link": true
    },
    "kernelspec": {
      "name": "python3",
      "display_name": "Python 3"
    },
    "language_info": {
      "name": "python"
    }
  },
  "cells": [
    {
      "cell_type": "markdown",
      "metadata": {
        "id": "view-in-github",
        "colab_type": "text"
      },
      "source": [
        "<a href=\"https://colab.research.google.com/github/kumaryu-w/chem/blob/main/%E6%B5%81%E4%BD%93%E3%81%AE%E6%90%8D%E5%A4%B1.ipynb\" target=\"_parent\"><img src=\"https://colab.research.google.com/assets/colab-badge.svg\" alt=\"Open In Colab\"/></a>"
      ]
    },
    {
      "cell_type": "code",
      "execution_count": null,
      "metadata": {
        "colab": {
          "base_uri": "https://localhost:8080/"
        },
        "id": "KHjeJEg7VVyz",
        "outputId": "404af9d0-69c8-471d-dd52-eea233bcc0a2"
      },
      "outputs": [
        {
          "output_type": "stream",
          "name": "stdout",
          "text": [
            "流体のエネルギー損失を計算します。\n",
            "管内壁面の粗さが無視できると考える。\n",
            "管の情報を入力してください。(単位は入力しないでください。)\n",
            "管の内径(m)>0.03\n",
            "管長(m)>100\n",
            "流体の情報を入力してください。(単位は入力しないでください。)\n",
            "流速(m/s)>2\n",
            "流体の密度(kg/m^3)>1000\n",
            "流体の粘度(Pa・s)>0.001\n",
            "\n",
            "------計算結果------\n",
            "乱流です。\n",
            "\n",
            "Re=60000.0\n",
            "1f=0.020216159818352064\n",
            "エネルギー損失:539.0975951560551(J/kg)\n",
            "\n",
            "1f=0.020216159818352064\n",
            "圧力損失:0.5390975951560552(Pa)\n",
            "\n"
          ]
        }
      ],
      "source": [
        "import math\n",
        "class Fluid_loss:\n",
        "  #d:管の内径、L:管長、u:流速、p:流体の密度、vi:流体の粘度\n",
        "  def __init__(self,d,L,u,p,vi):\n",
        "    self.d=float(d)\n",
        "    self.L=float(L)\n",
        "    self.u=float(u)\n",
        "    self.p=float(p)\n",
        "    self.vi=float(vi)\n",
        "    self.Re=self.CalculationRe()\n",
        "#Reの計算\n",
        "  def CalculationRe(self):\n",
        "    Re=(self.d * self.u * self.p)/self.vi\n",
        "    return Re\n",
        "#流体の流れ方\n",
        "  def floo(self):\n",
        "    if self.Re>4000:\n",
        "      print(\"乱流です。\\n\")\n",
        "    else:\n",
        "      print(\"層流です。\\n\")\n",
        "    print(f\"Re={self.Re}\")\n",
        "#摩擦係数fの算出\n",
        "  def floo_f(self):\n",
        "    if self.Re>=3000 and self.Re <=100000:\n",
        "      f=0.3164/self.Re**0.25\n",
        "      print(f\"1f={f}\")\n",
        "    elif self.Re>=1000000 and self.Re <=3000000:\n",
        "      f=0.0032+0.221*self.Re**(-0.237)\n",
        "      print(f\"2f={f}\")\n",
        "    elif self.Re<=4000:\n",
        "      f=16/self.Re\n",
        "      print(f\"3f={f}\")\n",
        "    else:\n",
        "      f=5.0\n",
        "      while(True):\n",
        "        f_=float(2.0 * math.log10(self.Re* math.sqrt(f))-0.8-1/ math.sqrt(f))\n",
        "        if abs(f_-f)<0.0001:\n",
        "          break\n",
        "        f=f_\n",
        "      print(f\"4f={f}\")\n",
        "    return float(f)\n",
        "#エネルギー損失の算出\n",
        "  def E_loss(self):\n",
        "    g=self.floo_f()\n",
        "    E=(4.0 * g * self.u**2 *self.L)/(2*self.d)\n",
        "    return E\n",
        "#圧力損失の算出\n",
        "  def P_loss(self):\n",
        "    E=self.E_loss()\n",
        "    P=E*self.vi\n",
        "    return P\n",
        "#結果の表示\n",
        "  def result(self):\n",
        "    print(\"\\n------計算結果------\")\n",
        "    self.floo()\n",
        "    print(\"エネルギー損失:{}(J/kg)\\n\".format(self.E_loss()))\n",
        "    print(\"圧力損失:{}(Pa)\\n\".format(self.P_loss()))\n",
        "    \n",
        "#d:管の内径、L:管長、u:流速、p:流体の密度、vi:流体の粘度\n",
        "print(\"流体のエネルギー損失を計算します。\")\n",
        "print(\"管内壁面の粗さが無視できると考える。\")\n",
        "print(\"管の情報を入力してください。(単位は入力しないでください。)\")\n",
        "d=input(\"管の内径(m)>\")\n",
        "L=input(\"管長(m)>\")\n",
        "print(\"流体の情報を入力してください。(単位は入力しないでください。)\")\n",
        "u=input(\"流速(m/s)>\")\n",
        "p=input(\"流体の密度(kg/m^3)>\")\n",
        "vi=input(\"流体の粘度(Pa・s)>\")\n",
        "Fluid_loss(d,L,u,p,vi).result()\n"
      ]
    },
    {
      "cell_type": "code",
      "source": [
        ""
      ],
      "metadata": {
        "id": "3-ki6kaWwerR"
      },
      "execution_count": null,
      "outputs": []
    },
    {
      "cell_type": "code",
      "source": [
        ""
      ],
      "metadata": {
        "id": "irzLXP-ziA5S"
      },
      "execution_count": null,
      "outputs": []
    },
    {
      "cell_type": "code",
      "source": [
        ""
      ],
      "metadata": {
        "id": "hp9wol2NjAv3"
      },
      "execution_count": null,
      "outputs": []
    }
  ]
}